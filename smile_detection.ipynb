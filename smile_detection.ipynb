{
 "cells": [
  {
   "cell_type": "code",
   "execution_count": 1,
   "id": "f85ecc4c-bb1e-40ea-af5d-8a7bb3cdfe5a",
   "metadata": {},
   "outputs": [],
   "source": [
    "import cv2"
   ]
  },
  {
   "cell_type": "code",
   "execution_count": 38,
   "id": "99ae41c2-da95-4b93-b8b1-4ae021d869d5",
   "metadata": {},
   "outputs": [],
   "source": [
    "cap=cv2.VideoCapture(0)\n",
    "smile_cascade = cv2.CascadeClassifier(\"C:\\\\Users\\\\pc\\\\Downloads\\\\haarcascade_smile.xml\")\n",
    "face_cascade = cv2.CascadeClassifier(\"C:\\\\Users\\\\pc\\\\Downloads\\\\haarcascade_frontalface_default.xml\")\n",
    "while cap.isOpened():\n",
    "    has_frame, frame=cap.read()\n",
    "    gray = cv2.cvtColor(frame, cv2.COLOR_BGR2GRAY)\n",
    "    faces=face_cascade.detectMultiScale(imag,1.1,6)\n",
    "    for (x,y,w,h) in faces:\n",
    "        cv2.rectangle(gray,\n",
    "                     (x,y),\n",
    "                     (x+w,y+h),\n",
    "                     (255,0,0),\n",
    "                     3)\n",
    "        # detection of smile\n",
    "        roi_gray = gray[y:y+h,x:x+w]\n",
    "        roi_color = frame[y:y+h,x:x+w]\n",
    "        smiles = smile_cascade.detectMultiScale(roi_gray,scaleFactor=1.8, minNeighbors=20)\n",
    "        for (a,b,c,d) in smiles:\n",
    "            cv2.rectangle(roi_color,(a,b),(a+c,b+d),(0,255,0),2)\n",
    "    cv2.imshow('image',frame)\n",
    "    if cv2.waitKey(1) & 0xFF == ord('q'):\n",
    "        break\n",
    "cap.release()\n",
    "cv2.destroyAllWindows()"
   ]
  },
  {
   "cell_type": "code",
   "execution_count": 11,
   "id": "652ef717-7323-41cc-be00-681e9a998b28",
   "metadata": {},
   "outputs": [],
   "source": []
  },
  {
   "cell_type": "code",
   "execution_count": null,
   "id": "1022b475-1fbe-49ce-8082-b38f5348a9a6",
   "metadata": {},
   "outputs": [],
   "source": []
  }
 ],
 "metadata": {
  "kernelspec": {
   "display_name": "Python 3 (ipykernel)",
   "language": "python",
   "name": "python3"
  },
  "language_info": {
   "codemirror_mode": {
    "name": "ipython",
    "version": 3
   },
   "file_extension": ".py",
   "mimetype": "text/x-python",
   "name": "python",
   "nbconvert_exporter": "python",
   "pygments_lexer": "ipython3",
   "version": "3.12.7"
  }
 },
 "nbformat": 4,
 "nbformat_minor": 5
}
